{
 "cells": [
  {
   "cell_type": "code",
   "execution_count": null,
   "metadata": {},
   "outputs": [],
   "source": [
    "from selenium import webdriver\n",
    "from selenium.webdriver.chrome.service import Service\n",
    "from webdriver_manager.chrome import ChromeDriverManager\n",
    "from selenium.webdriver.common.by import By\n",
    "from bs4 import BeautifulSoup\n",
    "from selenium.webdriver.common.keys import Keys\n",
    "import time\n",
    "import datetime"
   ]
  },
  {
   "cell_type": "code",
   "execution_count": null,
   "metadata": {},
   "outputs": [],
   "source": [
    "def notinlst(lstall,lst):\n",
    "    empty=[]\n",
    "    for i in lstall:\n",
    "        if i not in lst:\n",
    "            empty.append(i)\n",
    "    return empty"
   ]
  },
  {
   "cell_type": "code",
   "execution_count": null,
   "metadata": {},
   "outputs": [],
   "source": [
    "driver = webdriver.Chrome(service=Service(ChromeDriverManager().install()))\n",
    "chargelst=[]\n",
    "addrlst=[]\n",
    "otherlst=[]\n",
    "slowcountlst=[]\n",
    "\n",
    "# 카카오맵 지도 접속하기\n",
    "driver.get(\"https://map.kakao.com/\")\n",
    "\n",
    "\n",
    "html=driver.page_source\n",
    "soup=BeautifulSoup(html,'html.parser')\n",
    "\n",
    "# 검색창에 \"검색어\" 입력하기\n",
    "searchbox = driver.find_element(By.CSS_SELECTOR,(\"#search\\.keyword\\.query\"))\n",
    "searchbox.send_keys(\"용인시 전기차 충전소\")\n",
    "\n",
    "# 검색버튼 누르기\n",
    "searchbutton = driver.find_element(By.CSS_SELECTOR,\"#search\\.keyword\\.submit\")\n",
    "searchbutton.send_keys(Keys.ENTER)\n",
    "\n",
    "\n",
    "\n",
    "time.sleep(1)\n",
    "a=driver.find_elements(By.CLASS_NAME,\"link_name\")\n",
    "b=driver.find_elements(By.CLASS_NAME,\"addr\")\n",
    "for i in range(len(a)):\n",
    "    park=a[i].text\n",
    "    addr=b[i].text\n",
    "    addr=addr.splitlines()[0]\n",
    "    #print(park,addr)\n",
    "    chargelst.append(park)\n",
    "    addrlst.append(addr)\n",
    "\n",
    "#other information\n",
    "c=driver.find_elements(By.CLASS_NAME,\"moreview\")\n",
    "hreflst=[]\n",
    "for item in c:\n",
    "    href = item.get_attribute('href')\n",
    "    hreflst.append(href)\n",
    "\n",
    "time.sleep(1)\n",
    "\n",
    "#더보기버튼 누르기(한번만 시행하면 됩니다)\n",
    "morebutton = driver.find_element(By.CSS_SELECTOR,\"#info\\.search\\.place\\.more\")\n",
    "morebutton.send_keys(Keys.ENTER)\n",
    "\n",
    "#모든 페이지에 대해 반복\n",
    "for page in range(2,35):\n",
    "    print(page)\n",
    "    if page%5==1:\n",
    "        rightbutton = driver.find_element(By.XPATH, \"/html/body/div[5]/div[2]/div[1]/div[7]/div[6]/div/button[2]\")\n",
    "        rightbutton.send_keys(Keys.ENTER)\n",
    "        time.sleep(0.3)\n",
    "        pageidx=1\n",
    "        print(\"next\")\n",
    "    elif page%5 == 0:\n",
    "        pageidx=5\n",
    "    else:\n",
    "        pageidx=page%5\n",
    "    css=\"#info\\.search\\.page\\.no{}\".format(pageidx)\n",
    "    time.sleep(0.5)\n",
    "    nextbutton=driver.find_element(By.CSS_SELECTOR,css)\n",
    "    nextbutton.send_keys(Keys.ENTER)\n",
    "    time.sleep(0.3)\n",
    "    a=driver.find_elements(By.CLASS_NAME,\"link_name\")\n",
    "    b=driver.find_elements(By.CLASS_NAME,\"addr\")\n",
    "    #print(a[0].text,b[0].text)\n",
    "    time.sleep(0.3)\n",
    "    for i in range(len(a)):\n",
    "        park=a[i].text\n",
    "        addr=b[i].text\n",
    "        addr=addr.splitlines()[0]\n",
    "        print(park,addr)\n",
    "        chargelst.append(park)\n",
    "        addrlst.append(addr)\n",
    "\n",
    "    c = driver.find_elements(By.CLASS_NAME, \"moreview\")\n",
    "    for item in c:\n",
    "        href = item.get_attribute('href')\n",
    "        hreflst.append(href)\n",
    "\n",
    "\n",
    "#상세보기\n",
    "for i in hreflst:\n",
    "    slowcount=0\n",
    "    time.sleep(1)\n",
    "    driver.get(i)\n",
    "    time.sleep(1)                    #너무 많이 호출할경우 카카오맵 자체에서 엑세스를 거부?\n",
    "    html = driver.page_source\n",
    "    soup = BeautifulSoup(html, 'html.parser')\n",
    "    d=driver.find_elements(By.CLASS_NAME,\"list_specific\")\n",
    "    if len(d)==0:\n",
    "        print(\"no\")\n",
    "        otherlst.append('no')\n",
    "        slowcountlst.append(slowcount)\n",
    "        continue\n",
    "    for idx in range(len(d)):\n",
    "        print(d[idx].text)\n",
    "        otherlst.append(d[idx].text)\n",
    "    eall=driver.find_elements(By.CLASS_NAME,\"set_item\")\n",
    "    e=driver.find_elements(By.CLASS_NAME,\"set_item.item_disabled\")\n",
    "    ee=notinlst(eall,e)\n",
    "    for i in range(len(ee)):\n",
    "        try:\n",
    "            if ee[1].text==\"완속\":\n",
    "                slowcount+=1\n",
    "        except:\n",
    "            break\n",
    "    for i in range(3,8):\n",
    "        try:\n",
    "            btn=driver.find_elements(By.CSS_SELECTOR,'#mArticle > div.cont_ecarcharge > div > div > div > a:nth-child({})'.format(i))\n",
    "            btn[0].send_keys(Keys.ENTER)\n",
    "            time.sleep(1)\n",
    "            eall=driver.find_elements(By.CLASS_NAME,\"set_item\")\n",
    "            e=driver.find_elements(By.CLASS_NAME,\"set_item.item_disabled\")\n",
    "            ee=notinlst(eall,e)\n",
    "            for i in range(len(ee)):\n",
    "                if ee[i].text==\"완속\":\n",
    "                    slowcount+=1\n",
    "        except:\n",
    "            slowcountlst.append(slowcount)\n",
    "            print(slowcount)\n",
    "            break"
   ]
  },
  {
   "cell_type": "code",
   "execution_count": null,
   "metadata": {},
   "outputs": [],
   "source": [
    "print(len(chargelst))\n",
    "print(len(addrlst))\n",
    "print(len(otherlst))\n",
    "print(len(slowcountlst))"
   ]
  },
  {
   "cell_type": "code",
   "execution_count": null,
   "metadata": {},
   "outputs": [],
   "source": [
    "import pandas as pd\n",
    "df5=pd.DataFrame(chargelst)\n",
    "df5['addr']=addrlst\n",
    "df5['time']=otherlst\n",
    "df5['numslow']=slowcountlst\n",
    "df5.to_csv(\"chargeat4pm.csv\",encoding='euc-kr')"
   ]
  },
  {
   "cell_type": "code",
   "execution_count": null,
   "metadata": {},
   "outputs": [],
   "source": [
    "dfhref=pd.DataFrame(hreflst)\n",
    "dfhref.to_csv(\"href.csv\",encoding='euc-kr')"
   ]
  },
  {
   "cell_type": "code",
   "execution_count": null,
   "metadata": {},
   "outputs": [],
   "source": [
    "#iterate crawling every 2hours"
   ]
  },
  {
   "cell_type": "code",
   "execution_count": null,
   "metadata": {},
   "outputs": [],
   "source": [
    "for t in range(1,41,2):\n",
    "    hour=t\n",
    "    if t>=24:\n",
    "        hour=t-24\n",
    "    while not(datetime.now().hour==hour ):\n",
    "        print(\"wait 2hours...\")\n",
    "        time.sleep(300)\n",
    "    atspecifictime=[]\n",
    "    driver = webdriver.Chrome(service=Service(ChromeDriverManager().install()))\n",
    "    for i in hreflst:\n",
    "        slowcount=0\n",
    "        time.sleep(1)\n",
    "        driver.get(i)\n",
    "        time.sleep(1)                    #너무 많이 호출할경우 카카오맵 자체에서 엑세스를 거부?\n",
    "        html = driver.page_source\n",
    "        soup = BeautifulSoup(html, 'html.parser')\n",
    "        d=driver.find_elements(By.CLASS_NAME,\"list_specific\")\n",
    "        if len(d)==0:\n",
    "            print(\"no\")\n",
    "            atspecifictime.append('no')\n",
    "            continue\n",
    "        for idx in range(len(d)):\n",
    "            print(d[idx].text)\n",
    "            atspecifictime.append(d[idx].text)\n",
    "\n",
    "    df5=pd.DataFrame(atspecifictime)\n",
    "    df5.to_csv(\"chargeat{}pm.csv\".format(t),encoding='euc-kr')"
   ]
  },
  {
   "cell_type": "code",
   "execution_count": null,
   "metadata": {},
   "outputs": [],
   "source": [
    "#deal with exception"
   ]
  },
  {
   "cell_type": "code",
   "execution_count": null,
   "metadata": {},
   "outputs": [],
   "source": [
    "def notchargable(example):\n",
    "    errcount=0\n",
    "    time.sleep(1)\n",
    "    driver.get(example)\n",
    "    time.sleep(1)                    #너무 많이 호출할경우 카카오맵 자체에서 엑세스를 거부?\n",
    "    html = driver.page_source\n",
    "    soup = BeautifulSoup(html, 'html.parser')\n",
    "    try:\n",
    "        for tr in range(1,6):\n",
    "            e=driver.find_elements(By.XPATH,'//*[@id=\"mArticle\"]/div[3]/div/div/table/tbody/tr[{}]/td[1]'.format(tr))\n",
    "            print(e[0].text)\n",
    "            if e[0].text[:4]==\"충전불가\":\n",
    "                errcount+=1\n",
    "    except:\n",
    "        return errcount\n",
    "    for j in range(3,8):\n",
    "        try:\n",
    "            time.sleep(1)\n",
    "            btn=driver.find_elements(By.CSS_SELECTOR,'#mArticle > div.cont_ecarcharge > div > div > div > a:nth-child({})'.format(j))\n",
    "            btn[0].send_keys(Keys.ENTER)\n",
    "            time.sleep(1)\n",
    "            for tr in range(1,6):\n",
    "                try:\n",
    "                    e=driver.find_elements(By.XPATH,'//*[@id=\"mArticle\"]/div[3]/div/div/table/tbody/tr[{}]/td[1]'.format(tr))\n",
    "                    print(e[0].text)\n",
    "                    if e[0].text[:4]== \"충전불가\":\n",
    "                        errcount+=1\n",
    "                except:\n",
    "                    break\n",
    "        except:\n",
    "            return errcount"
   ]
  },
  {
   "cell_type": "code",
   "execution_count": null,
   "metadata": {},
   "outputs": [],
   "source": [
    "#위에것 실행결과에서 len(errcount)=48이 나옵니다"
   ]
  },
  {
   "cell_type": "code",
   "execution_count": null,
   "metadata": {},
   "outputs": [],
   "source": [
    "driver = webdriver.Chrome(service=Service(ChromeDriverManager().install()))\n",
    "errcountlst=[]\n",
    "for i in hreflst:\n",
    "    result=notchargable(i)\n",
    "    errcountlst.append(result)"
   ]
  },
  {
   "cell_type": "code",
   "execution_count": null,
   "metadata": {},
   "outputs": [],
   "source": [
    "biglst=[]\n",
    "for i in range(7,19):\n",
    "    smalllst=[]\n",
    "    for j in range(0,500):\n",
    "        str=preprodf.iloc[:,i][j]\n",
    "        ans=preprocess(str,errlst[j])\n",
    "        smalllst.append(ans)\n",
    "    biglst.append(smalllst)"
   ]
  },
  {
   "cell_type": "code",
   "execution_count": null,
   "metadata": {},
   "outputs": [],
   "source": [
    "aaa=pd.DataFrame(biglst).transpose()\n",
    "aaa.to_csv(\"collectednow.csv\",encoding='euc-kr')\n"
   ]
  },
  {
   "cell_type": "code",
   "execution_count": null,
   "metadata": {},
   "outputs": [],
   "source": []
  }
 ],
 "metadata": {
  "colab": {
   "collapsed_sections": [],
   "provenance": [],
   "toc_visible": true
  },
  "kernelspec": {
   "display_name": "Python 3",
   "language": "python",
   "name": "python3"
  },
  "language_info": {
   "codemirror_mode": {
    "name": "ipython",
    "version": 3
   },
   "file_extension": ".py",
   "mimetype": "text/x-python",
   "name": "python",
   "nbconvert_exporter": "python",
   "pygments_lexer": "ipython3",
   "version": "3.10.9 (tags/v3.10.9:1dd9be6, Dec  6 2022, 20:01:21) [MSC v.1934 64 bit (AMD64)]"
  },
  "vscode": {
   "interpreter": {
    "hash": "d4dae4ea8e5f4de9e76d858a9174cd4657e40ccbbb94f8495095b398f7d4021b"
   }
  }
 },
 "nbformat": 4,
 "nbformat_minor": 1
}
